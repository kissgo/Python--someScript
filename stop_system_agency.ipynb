{
 "cells": [
  {
   "cell_type": "code",
   "execution_count": 2,
   "id": "ef6ad2bb",
   "metadata": {},
   "outputs": [],
   "source": [
    "import winreg\n",
    "import ctypes\n",
    "#import get_proxies\n",
    "\n",
    "# 如果从来没有开过代理 有可能健不存在 会报错\n",
    "INTERNET_SETTINGS = winreg.OpenKey(winreg.HKEY_CURRENT_USER,\n",
    "                                   r'Software\\Microsoft\\Windows\\CurrentVersion\\Internet Settings',\n",
    "                                   0, winreg.KEY_ALL_ACCESS)\n",
    "# 设置刷新\n",
    "INTERNET_OPTION_REFRESH = 37\n",
    "INTERNET_OPTION_SETTINGS_CHANGED = 39\n",
    "internet_set_option = ctypes.windll.Wininet.InternetSetOptionW\n",
    "\n"
   ]
  },
  {
   "cell_type": "code",
   "execution_count": 3,
   "id": "258f88f0",
   "metadata": {},
   "outputs": [],
   "source": [
    "def set_key(name, value):\n",
    "    # 修改键值\n",
    "    _, reg_type = winreg.QueryValueEx(INTERNET_SETTINGS, name)\n",
    "    winreg.SetValueEx(INTERNET_SETTINGS, name, 0, reg_type, value)\n",
    "\n",
    "\n"
   ]
  },
  {
   "cell_type": "code",
   "execution_count": null,
   "id": "4ed3e89c",
   "metadata": {},
   "outputs": [],
   "source": [
    "# 启用代理\n",
    "def start():\n",
    "    stop()  # 先关闭代理,请求的代理一般来自api,如果前一个代理ip失效或者没加入白名单,会请求失败\n",
    "    proxy = get_proxies()\n",
    "    ip_port = proxy['http'].split(\"//\", 1)[1]  # 形式: 12.145.32.68:8888\n",
    "    set_key('ProxyEnable', 1)  # 启用\n",
    "    # 本地链接不代理\n",
    "    set_key('ProxyOverride',\n",
    "            u'localhost;127.*;10.*;172.16.*;172.17.*;172.18.*;172.19.*;172.20.*;172.21.*;172.22.*;172.23.*;172.24.*;172.25.*;172.26.*;172.27.*;172.28.*;172.29.*;172.30.*;172.31.*;192.168.*;127.0.0.1\"\"\"')  \n",
    "    set_key('ProxyServer', u'{}'.format(ip_port))  # 代理IP及端口，将此代理修改为自己的代理IP\n",
    "    internet_set_option(0, INTERNET_OPTION_REFRESH, 0, 0)\n",
    "    internet_set_option(0, INTERNET_OPTION_SETTINGS_CHANGED, 0, 0)\n",
    "    print(f'当前代理: {ip_port}')\n",
    "\n",
    "\n"
   ]
  },
  {
   "cell_type": "code",
   "execution_count": 4,
   "id": "fab62357",
   "metadata": {},
   "outputs": [],
   "source": [
    "def stop():\n",
    "    # 停用代理\n",
    "    set_key('ProxyEnable', 0)  # 停用\n",
    "    internet_set_option(0, INTERNET_OPTION_REFRESH, 0, 0)\n",
    "    internet_set_option(0, INTERNET_OPTION_SETTINGS_CHANGED, 0, 0)\n",
    "    print('代理已关闭')"
   ]
  },
  {
   "cell_type": "code",
   "execution_count": 6,
   "id": "adc8b0da",
   "metadata": {},
   "outputs": [
    {
     "name": "stdout",
     "output_type": "stream",
     "text": [
      "代理已关闭\n"
     ]
    }
   ],
   "source": [
    "stop()"
   ]
  },
  {
   "cell_type": "code",
   "execution_count": 14,
   "id": "ebd3d912",
   "metadata": {},
   "outputs": [
    {
     "data": {
      "text/plain": [
       "0"
      ]
     },
     "execution_count": 14,
     "metadata": {},
     "output_type": "execute_result"
    }
   ],
   "source": [
    "winreg.QueryValueEx(INTERNET_SETTINGS,'ProxyEnable')[0]"
   ]
  },
  {
   "cell_type": "code",
   "execution_count": null,
   "id": "d42f4255",
   "metadata": {},
   "outputs": [],
   "source": []
  }
 ],
 "metadata": {
  "kernelspec": {
   "display_name": "Python 3 (ipykernel)",
   "language": "python",
   "name": "python3"
  },
  "language_info": {
   "codemirror_mode": {
    "name": "ipython",
    "version": 3
   },
   "file_extension": ".py",
   "mimetype": "text/x-python",
   "name": "python",
   "nbconvert_exporter": "python",
   "pygments_lexer": "ipython3",
   "version": "3.7.9"
  }
 },
 "nbformat": 4,
 "nbformat_minor": 5
}