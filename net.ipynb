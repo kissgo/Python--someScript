{
 "cells": [
  {
   "cell_type": "code",
   "execution_count": 1,
   "metadata": {
    "pycharm": {
     "name": "#%%\n"
    }
   },
   "outputs": [],
   "source": [
    "import time\n",
    "\n",
    "import requests\n",
    "import re\n",
    "import os\n",
    "from bs4 import BeautifulSoup\n",
    "from time import sleep\n",
    "\n",
    "\n",
    "username=\"\"\n",
    "\n",
    "\n",
    "password=\"\"\n",
    "\n",
    "# i录p地址默认为空 取值则为代替别人登\n",
    "# ip=\"10.52.177.139\"\n",
    "# ip = \"10.52.177.139\"\n",
    "ip = \"\"\n",
    "\n",
    "\n",
    "headers = {\n",
    "    'Connection': 'keep-alive',\n",
    "    'Cache-Control': 'max-age=0',\n",
    "    'Upgrade-Insecure-Requests': '1',\n",
    "    'User-Agent': 'Mozilla/5.0 (Windows NT 10.0; Win64; x64) AppleWebKit/537.36 (KHTML, like Gecko) Chrome/88.0.4324.190 Safari/537.36',\n",
    "    'Accept': 'text/html,application/xhtml+xml,application/xml;q=0.9,image/avif,image/webp,image/apng,*/*;q=0.8,application/signed-exchange;v=b3;q=0.9',\n",
    "    'Accept-Language': 'zh-CN,zh;q=0.9',\n",
    "}\n",
    "data = {\n",
    "    \"loginType\": \"\",\n",
    "    \"auth_type\": \"0\",\n",
    "    \"isBindMac1\": \"0\",\n",
    "    \"pageid\": \"4\",\n",
    "    \"templatetype\": \"1\",\n",
    "    \"listbindmac\": \"0\",\n",
    "    \"recordmac\": \"0\",\n",
    "    \"isRemind\": \"0\",\n",
    "    \"loginTimes\": \"\",\n",
    "    \"groupId\": \"\",\n",
    "    \"distoken\": \"\",\n",
    "    \"echostr\": \"\",\n",
    "    \"url\": \"http://1.1.1.1\",\n",
    "    \"isautoauth\": \"\",\n",
    "    \"notice_pic_float\": \" /portal/uploads/pc/hb_pay/images/rrs_bg.jpg\",\n",
    "    \"userId\": username,\n",
    "    \"passwd\": password\n",
    "}\n",
    "\n",
    "userId = {\n",
    "    \"userId\": username\n",
    "}\n",
    "\n",
    "url = \"http://1.1.1.1/\"\n",
    "url3 = \"http://1.1.1.1:8888/getAuthResult.do\"\n",
    "\n",
    "\n",
    "\n",
    "\n",
    "\n",
    "\n",
    "\n"
   ]
  },
  {
   "cell_type": "code",
   "execution_count": null,
   "metadata": {},
   "outputs": [],
   "source": [
    "\n",
    "\n",
    "time.sleep(4)#提高检测容错率\n"
   ]
  },
  {
   "cell_type": "code",
   "execution_count": 40,
   "metadata": {},
   "outputs": [
    {
     "data": {
      "text/plain": "'{\"check\":\"运营商网络拨号成功\"}'"
     },
     "execution_count": 40,
     "metadata": {},
     "output_type": "execute_result"
    }
   ],
   "source": [
    "# 判断是否登录成功 英东楼理论上无效\n",
    "succ = requests.post(url=url3, data=userId, headers=headers)\n",
    "\n",
    "status = succ.text.split('\"')[-2]\n",
    "\n",
    "succ.text\n"
   ]
  },
  {
   "cell_type": "code",
   "execution_count": null,
   "metadata": {},
   "outputs": [],
   "source": [
    "status"
   ]
  },
  {
   "cell_type": "code",
   "execution_count": 39,
   "metadata": {},
   "outputs": [
    {
     "name": "stdout",
     "output_type": "stream",
     "text": [
      "运营商网络拨号成功\n"
     ]
    }
   ],
   "source": [
    "if status == \"运营商网络拨号成功\":\n",
    "    print(status)\n",
    "elif succ.status_code == \"200\":\n",
    "    print(\"英东楼拨号成功\")\n",
    "else:\n",
    "    print(str(succ.status_code) + '错误')\n"
   ]
  },
  {
   "cell_type": "code",
   "execution_count": 38,
   "metadata": {},
   "outputs": [],
   "source": [
    "network = os.system(\"ping www.baidu.com -w 12 -n 3\")#-w 超时 -n 次数  请酌情调整\n",
    "\n",
    "if network:\n",
    "    # 302转跳\n",
    "    res = requests.get(url=url, allow_redirects=False, headers=headers)\n",
    "    soup = BeautifulSoup(res.text,features=\"lxml\")\n",
    "    info = soup.find('script')\n",
    "    url2 = info.string.split('\"')[1].split('\"')[0]\n",
    "    r = requests.post(url=url2, data=data, headers=headers)"
   ]
  },
  {
   "cell_type": "code",
   "execution_count": null,
   "outputs": [],
   "source": [],
   "metadata": {
    "collapsed": false,
    "pycharm": {
     "name": "#%%\n"
    }
   }
  }
 ],
 "metadata": {
  "kernelspec": {
   "display_name": "Python 3 (ipykernel)",
   "language": "python",
   "name": "python3"
  },
  "language_info": {
   "codemirror_mode": {
    "name": "ipython",
    "version": 3
   },
   "file_extension": ".py",
   "mimetype": "text/x-python",
   "name": "python",
   "nbconvert_exporter": "python",
   "pygments_lexer": "ipython3",
   "version": "3.7.9"
  }
 },
 "nbformat": 4,
 "nbformat_minor": 1
}